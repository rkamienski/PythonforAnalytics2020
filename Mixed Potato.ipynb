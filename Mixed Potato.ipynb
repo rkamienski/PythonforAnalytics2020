{
 "cells": [
  {
   "cell_type": "code",
   "execution_count": 1,
   "metadata": {},
   "outputs": [],
   "source": [
    "import numpy\n",
    "import scipy\n",
    "import pandas as pd\n",
    "import os\n",
    "import glob\n",
    "import re"
   ]
  },
  {
   "cell_type": "code",
   "execution_count": 2,
   "metadata": {},
   "outputs": [],
   "source": [
    "import kamienski as kams"
   ]
  },
  {
   "cell_type": "code",
   "execution_count": 4,
   "metadata": {},
   "outputs": [
    {
     "data": {
      "text/plain": [
       "['__builtins__',\n",
       " '__cached__',\n",
       " '__doc__',\n",
       " '__file__',\n",
       " '__loader__',\n",
       " '__name__',\n",
       " '__package__',\n",
       " '__path__',\n",
       " '__spec__',\n",
       " 'base']"
      ]
     },
     "execution_count": 4,
     "metadata": {},
     "output_type": "execute_result"
    }
   ],
   "source": [
    "dir(kams)"
   ]
  },
  {
   "cell_type": "code",
   "execution_count": 5,
   "metadata": {},
   "outputs": [
    {
     "data": {
      "text/plain": [
       "'Hello!'"
      ]
     },
     "execution_count": 5,
     "metadata": {},
     "output_type": "execute_result"
    }
   ],
   "source": [
    "kams.base.hello()"
   ]
  },
  {
   "cell_type": "code",
   "execution_count": 6,
   "metadata": {},
   "outputs": [
    {
     "data": {
      "text/plain": [
       "'01'"
      ]
     },
     "execution_count": 6,
     "metadata": {},
     "output_type": "execute_result"
    }
   ],
   "source": [
    "j = 1\n",
    "\"{:0>2}\".format(j)"
   ]
  },
  {
   "cell_type": "code",
   "execution_count": 7,
   "metadata": {},
   "outputs": [],
   "source": [
    "#self = ''\n",
    "path = './mysalad'\n",
    "saladlist = ['tomato', 'lettuce', 'cruton'],\n",
    "n_items = [2, 3, 5]"
   ]
  },
  {
   "cell_type": "code",
   "execution_count": 8,
   "metadata": {},
   "outputs": [
    {
     "name": "stdout",
     "output_type": "stream",
     "text": [
      "mysalad\n",
      "lettuce 2\n",
      "tomato 3\n",
      "[[('lettuce_', '00')], [('lettuce_', '01')], [('tomato_', '00')], [('tomato_', '01')], [('tomato_', '02')]]\n"
     ]
    }
   ],
   "source": [
    "class salad():\n",
    "    def __init__(self):\n",
    "        self.path = ''\n",
    "        self.items = []\n",
    "        self.numbers = []\n",
    "    def write(self, path, salad, n_items):\n",
    "        self.path = path\n",
    "        print(self.path)\n",
    "        assert len(salad) == len(n_items), \"The lists must be equal length.\"\n",
    "        os.makedirs(self.path, exist_ok=True)\n",
    "        for k in range(len(salad)):\n",
    "            print(salad[k],n_items[k])\n",
    "            for j in range(n_items[k]):\n",
    "                file_name = salad[k] + '_' + str('{:0>2}'.format(j)) + '.salad'\n",
    "                f = open(os.path.join(self.path, file_name), \"w+\")\n",
    "                f.close()\n",
    "        return\n",
    "    def read(self, path):\n",
    "        flist = glob.glob(os.path.join(path,'*.salad'))\n",
    "        a = []\n",
    "        for file in flist:\n",
    "            pattern = r\"(\\w+)(\\d\\d).salad\"\n",
    "            a.append(re.findall(pattern, file))\n",
    "        return a\n",
    "\n",
    "path = 'mysalad'\n",
    "salad_items = ['lettuce', 'tomato']\n",
    "salad_numbers = [2,3]\n",
    "mysalad = salad()\n",
    "mysalad.write(path, salad_items, salad_numbers)\n",
    "flist = mysalad.read(path)\n",
    "print(flist)"
   ]
  },
  {
   "cell_type": "code",
   "execution_count": 9,
   "metadata": {},
   "outputs": [],
   "source": [
    "f = open(\"final_salad.txt\", \"w+\")\n",
    "f.write('rachel')\n",
    "f.write('kamienski')\n",
    "for k in flist:\n",
    "    f.write(str(k))\n",
    "f.close()"
   ]
  },
  {
   "cell_type": "code",
   "execution_count": 10,
   "metadata": {},
   "outputs": [
    {
     "data": {
      "text/plain": [
       "'C:\\\\Users\\\\rachel.kamienski\\\\Documents\\\\GitHub\\\\PythonforAnalytics2020'"
      ]
     },
     "execution_count": 10,
     "metadata": {},
     "output_type": "execute_result"
    }
   ],
   "source": [
    "os.getcwd()"
   ]
  }
 ],
 "metadata": {
  "kernelspec": {
   "display_name": "Python 3",
   "language": "python",
   "name": "python3"
  },
  "language_info": {
   "codemirror_mode": {
    "name": "ipython",
    "version": 3
   },
   "file_extension": ".py",
   "mimetype": "text/x-python",
   "name": "python",
   "nbconvert_exporter": "python",
   "pygments_lexer": "ipython3",
   "version": "3.7.4"
  }
 },
 "nbformat": 4,
 "nbformat_minor": 2
}
