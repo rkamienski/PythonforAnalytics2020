{
 "cells": [
  {
   "cell_type": "markdown",
   "metadata": {},
   "source": [
    "# ASSIGMENT 3\n",
    "\n",
    "1. Create a github repo\n",
    "2. Create a python package\n",
    "3. Create a module inside the package called msca\n",
    "4. Create a processing \"class\"\n",
    "5. Create some UDF's\n",
    "6. Install / Reinstall your module on your python env.\n",
    "7. Write a script that uses your module and save some files\n",
    "8. Write a second script that reads this files using RegExp\n",
    "9. Generate some visualization of your thingy.\n",
    "10. Benchmark and make it multprocess (even if is just sequential chunking).\n",
    "\n",
    "## Things to consider\n",
    "\n",
    "1. What is the file structure?\n",
    "2. Find examples of where your module could be useful."
   ]
  },
  {
   "cell_type": "code",
   "execution_count": null,
   "metadata": {},
   "outputs": [],
   "source": []
  }
 ],
 "metadata": {
  "kernelspec": {
   "display_name": "Python 3",
   "language": "python",
   "name": "python3"
  },
  "language_info": {
   "codemirror_mode": {
    "name": "ipython",
    "version": 3
   },
   "file_extension": ".py",
   "mimetype": "text/x-python",
   "name": "python",
   "nbconvert_exporter": "python",
   "pygments_lexer": "ipython3",
   "version": "3.7.4"
  }
 },
 "nbformat": 4,
 "nbformat_minor": 2
}
